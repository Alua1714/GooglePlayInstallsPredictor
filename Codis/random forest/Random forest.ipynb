{
 "cells": [
  {
   "cell_type": "code",
   "execution_count": 2,
   "id": "777e1041",
   "metadata": {},
   "outputs": [],
   "source": [
    "import numpy as np\n",
    "import matplotlib.pyplot as plt\n",
    "import seaborn as sn\n",
    "import pandas as pd\n",
    "\n",
    "pd.set_option('display.precision', 3)\n",
    "\n",
    "# Extra imports\n",
    "from pandas import read_csv\n",
    "from sklearn.model_selection import train_test_split\n",
    "from sklearn.tree import DecisionTreeClassifier\n",
    "import graphviz\n",
    "\n",
    "from sklearn.tree import export_graphviz\n",
    "from sklearn.metrics import confusion_matrix, accuracy_score, classification_report, f1_score\n",
    "from sklearn.ensemble import RandomForestClassifier,VotingClassifier,GradientBoostingClassifier,StackingClassifier,ExtraTreesClassifier\n",
    "from imblearn.under_sampling import RandomUnderSampler\n",
    "from sklearn.model_selection import GridSearchCV, KFold\n",
    "from sklearn.naive_bayes import GaussianNB\n",
    "\n",
    "from time import time\n",
    "from datetime import timedelta\n",
    "\n",
    "import seaborn as sns\n",
    "from matplotlib import pyplot as plt\n",
    "\n",
    "import warnings\n",
    "warnings.filterwarnings('ignore')\n",
    "\n",
    "np.random.seed(1000)"
   ]
  },
  {
   "cell_type": "code",
   "execution_count": 4,
   "id": "399b7997",
   "metadata": {},
   "outputs": [],
   "source": [
    "def confusion(true, pred):\n",
    "    \"\"\"\n",
    "    Function for pretty printing confusion matrices\n",
    "    \"\"\"\n",
    "    pred = pd.Series(pred)\n",
    "    true = pd.Series(true)\n",
    "    \n",
    "    true.name = 'target'\n",
    "    pred.name = 'predicted'\n",
    "    cm = pd.crosstab(true.reset_index(drop=True), pred.reset_index(drop=True))\n",
    "    cm = cm[cm.index]\n",
    "    return cm"
   ]
  },
  {
   "cell_type": "code",
   "execution_count": 5,
   "id": "9f64574a",
   "metadata": {},
   "outputs": [
    {
     "data": {
      "text/plain": [
       "Category             object\n",
       "Free                   bool\n",
       "Released            float64\n",
       "Content Rating       object\n",
       "Ad Supported           bool\n",
       "In App Purchases       bool\n",
       "Editors Choice         bool\n",
       "Installs             object\n",
       "ModRating           float64\n",
       "ModPrice            float64\n",
       "ModSize             float64\n",
       "ModLast Updated     float64\n",
       "dtype: object"
      ]
     },
     "execution_count": 5,
     "metadata": {},
     "output_type": "execute_result"
    }
   ],
   "source": [
    "datasetTrain = pd.read_csv('../Dades/X_train_modified.csv')\n",
    "datasetTest  = pd.read_csv('../Dades/X_test_modified.csv')\n",
    "\n",
    "datasetTrain['Installs'] = datasetTrain['Installs'].astype('object')\n",
    "datasetTest['Installs'] = datasetTest['Installs'].astype('object')\n",
    "\n",
    "columsToDrop = ['Maximum Installs', 'Price', 'Size', 'Download', 'Last Updated', 'ModInstalls', 'ModMaximumInstalls', 'Rating', 'ModExit']\n",
    "categoricalColumns = ['Installs', 'Category', 'Free', 'Content Rating', 'Ad Supported', 'In App Purchases', 'Editors Choice']\n",
    "\n",
    "'''\n",
    "# Convert to categorical variables\n",
    "for column in categoricalColumns:\n",
    "    datasetTrain[column] = datasetTrain[column].astype('category')\n",
    "    datasetTest[column] = datasetTest[column].astype('category')\n",
    "'''\n",
    "# Drop repeated or unwanted data (Installs is the catageorial version of \"Maximum installs\")\n",
    "datasetTrain = datasetTrain.drop(columns=columsToDrop)\n",
    "datasetTest  = datasetTest.drop(columns=columsToDrop)\n",
    "\n",
    "datasetTrain = datasetTrain.drop(columns=['Exit'])\n",
    "datasetTest = datasetTest.drop(columns=['Exit'])\n",
    "\n",
    "datasetTrain.dtypes"
   ]
  },
  {
   "cell_type": "code",
   "execution_count": 6,
   "id": "ee4d9504",
   "metadata": {},
   "outputs": [
    {
     "data": {
      "text/plain": [
       "array([10000.0, 10000000.0, 100000.0, 50000.0, 500.0, 1000.0, 5000.0,\n",
       "       1000000.0, 500000.0, 100.0, 5000000.0, 50000000.0, 100000000.0,\n",
       "       1000000000.0, 500000000.0], dtype=object)"
      ]
     },
     "execution_count": 6,
     "metadata": {},
     "output_type": "execute_result"
    }
   ],
   "source": [
    " datasetTrain['Installs'].unique()"
   ]
  },
  {
   "cell_type": "code",
   "execution_count": 8,
   "id": "ff751afc",
   "metadata": {},
   "outputs": [],
   "source": [
    "Xtrain = datasetTrain.loc[:, datasetTrain.columns != 'Installs']\n",
    "Ytrain = datasetTrain['Installs']\n",
    "\n",
    "Xtest = datasetTest.loc[:, datasetTest.columns != 'Installs']\n",
    "Ytest = datasetTest['Installs']"
   ]
  },
  {
   "cell_type": "code",
   "execution_count": 9,
   "id": "5bb0046f",
   "metadata": {},
   "outputs": [
    {
     "name": "stdout",
     "output_type": "stream",
     "text": [
      "0       +10000.0\n",
      "1       +10000.0\n",
      "2    +10000000.0\n",
      "3      +100000.0\n",
      "4       +50000.0\n",
      "Name: Installs, dtype: object\n"
     ]
    }
   ],
   "source": [
    "for column in Xtrain.columns:\n",
    "        if Xtrain[column].dtype.kind == 'O':\n",
    "            Xtrain_one_hot = pd.get_dummies(Xtrain[column], prefix=column)\n",
    "            Xtrain = Xtrain.merge(Xtrain_one_hot,left_index=True,right_index=True)\n",
    "            Xtrain = Xtrain.drop(columns=[column])\n",
    "            \n",
    "for column in Xtest.columns:\n",
    "        if Xtest[column].dtype.kind == 'O':\n",
    "            Xtest_one_hot = pd.get_dummies(Xtest[column], prefix=column)\n",
    "            Xtest = Xtest.merge(Xtest_one_hot,left_index=True,right_index=True)\n",
    "            Xtest = Xtest.drop(columns=[column])\n",
    "            \n",
    "print(Ytrain.head())\n"
   ]
  },
  {
   "cell_type": "markdown",
   "id": "6f246cc8",
   "metadata": {},
   "source": [
    "For the moment, we won't consider that there is a class imbalance"
   ]
  },
  {
   "cell_type": "markdown",
   "id": "38f387f1",
   "metadata": {},
   "source": [
    "The error is symmetric, we will consider as our metric the F1-score macro average"
   ]
  },
  {
   "cell_type": "code",
   "execution_count": 10,
   "id": "251cf96b",
   "metadata": {},
   "outputs": [],
   "source": [
    "def compute_metrics(y_true,y_pred):\n",
    "    accuracy = accuracy_score(y_true,y_pred)\n",
    "    f1_score_macro = f1_score(y_true,y_pred,average='macro')\n",
    "    return [accuracy,f1_score_macro]\n",
    "\n",
    "results = pd.DataFrame(columns=['Accuracy', 'F1-score (macro avg)'])\n"
   ]
  },
  {
   "cell_type": "markdown",
   "id": "41f6f600",
   "metadata": {},
   "source": [
    "We split the training data to create a validation set"
   ]
  },
  {
   "cell_type": "code",
   "execution_count": 11,
   "id": "f61bb5db",
   "metadata": {},
   "outputs": [],
   "source": [
    "Xtrain, Xval, Ytrain, Yval = train_test_split(Xtrain, Ytrain, test_size=0.25, stratify=Ytrain, random_state=1)"
   ]
  },
  {
   "cell_type": "markdown",
   "id": "6e245b6e",
   "metadata": {},
   "source": [
    "## DecisionTreeClassifier"
   ]
  },
  {
   "cell_type": "code",
   "execution_count": 11,
   "id": "284fece2",
   "metadata": {},
   "outputs": [],
   "source": [
    "model_tree = DecisionTreeClassifier().fit(Xtrain, Ytrain)"
   ]
  },
  {
   "cell_type": "code",
   "execution_count": 12,
   "id": "6c0ad345",
   "metadata": {},
   "outputs": [
    {
     "data": {
      "text/html": [
       "<div>\n",
       "<style scoped>\n",
       "    .dataframe tbody tr th:only-of-type {\n",
       "        vertical-align: middle;\n",
       "    }\n",
       "\n",
       "    .dataframe tbody tr th {\n",
       "        vertical-align: top;\n",
       "    }\n",
       "\n",
       "    .dataframe thead th {\n",
       "        text-align: right;\n",
       "    }\n",
       "</style>\n",
       "<table border=\"1\" class=\"dataframe\">\n",
       "  <thead>\n",
       "    <tr style=\"text-align: right;\">\n",
       "      <th>predicted</th>\n",
       "      <th>+100.0</th>\n",
       "      <th>+1000.0</th>\n",
       "      <th>+10000.0</th>\n",
       "      <th>+100000.0</th>\n",
       "      <th>+1000000.0</th>\n",
       "      <th>+10000000.0</th>\n",
       "      <th>+100000000.0</th>\n",
       "      <th>+1000000000.0</th>\n",
       "      <th>+500.0</th>\n",
       "      <th>+5000.0</th>\n",
       "      <th>+50000.0</th>\n",
       "      <th>+500000.0</th>\n",
       "      <th>+5000000.0</th>\n",
       "      <th>+50000000.0</th>\n",
       "      <th>+500000000.0</th>\n",
       "    </tr>\n",
       "    <tr>\n",
       "      <th>target</th>\n",
       "      <th></th>\n",
       "      <th></th>\n",
       "      <th></th>\n",
       "      <th></th>\n",
       "      <th></th>\n",
       "      <th></th>\n",
       "      <th></th>\n",
       "      <th></th>\n",
       "      <th></th>\n",
       "      <th></th>\n",
       "      <th></th>\n",
       "      <th></th>\n",
       "      <th></th>\n",
       "      <th></th>\n",
       "      <th></th>\n",
       "    </tr>\n",
       "  </thead>\n",
       "  <tbody>\n",
       "    <tr>\n",
       "      <th>+100.0</th>\n",
       "      <td>3956</td>\n",
       "      <td>0</td>\n",
       "      <td>0</td>\n",
       "      <td>0</td>\n",
       "      <td>0</td>\n",
       "      <td>0</td>\n",
       "      <td>0</td>\n",
       "      <td>0</td>\n",
       "      <td>0</td>\n",
       "      <td>0</td>\n",
       "      <td>0</td>\n",
       "      <td>0</td>\n",
       "      <td>0</td>\n",
       "      <td>0</td>\n",
       "      <td>0</td>\n",
       "    </tr>\n",
       "    <tr>\n",
       "      <th>+1000.0</th>\n",
       "      <td>1</td>\n",
       "      <td>33350</td>\n",
       "      <td>2</td>\n",
       "      <td>0</td>\n",
       "      <td>0</td>\n",
       "      <td>0</td>\n",
       "      <td>0</td>\n",
       "      <td>0</td>\n",
       "      <td>0</td>\n",
       "      <td>3</td>\n",
       "      <td>0</td>\n",
       "      <td>0</td>\n",
       "      <td>0</td>\n",
       "      <td>0</td>\n",
       "      <td>0</td>\n",
       "    </tr>\n",
       "    <tr>\n",
       "      <th>+10000.0</th>\n",
       "      <td>0</td>\n",
       "      <td>16</td>\n",
       "      <td>57486</td>\n",
       "      <td>1</td>\n",
       "      <td>0</td>\n",
       "      <td>0</td>\n",
       "      <td>0</td>\n",
       "      <td>0</td>\n",
       "      <td>0</td>\n",
       "      <td>1</td>\n",
       "      <td>1</td>\n",
       "      <td>0</td>\n",
       "      <td>0</td>\n",
       "      <td>0</td>\n",
       "      <td>0</td>\n",
       "    </tr>\n",
       "    <tr>\n",
       "      <th>+100000.0</th>\n",
       "      <td>0</td>\n",
       "      <td>0</td>\n",
       "      <td>6</td>\n",
       "      <td>25801</td>\n",
       "      <td>0</td>\n",
       "      <td>0</td>\n",
       "      <td>0</td>\n",
       "      <td>0</td>\n",
       "      <td>0</td>\n",
       "      <td>0</td>\n",
       "      <td>1</td>\n",
       "      <td>0</td>\n",
       "      <td>0</td>\n",
       "      <td>0</td>\n",
       "      <td>0</td>\n",
       "    </tr>\n",
       "    <tr>\n",
       "      <th>+1000000.0</th>\n",
       "      <td>0</td>\n",
       "      <td>0</td>\n",
       "      <td>0</td>\n",
       "      <td>1</td>\n",
       "      <td>8295</td>\n",
       "      <td>0</td>\n",
       "      <td>0</td>\n",
       "      <td>0</td>\n",
       "      <td>0</td>\n",
       "      <td>0</td>\n",
       "      <td>0</td>\n",
       "      <td>0</td>\n",
       "      <td>0</td>\n",
       "      <td>0</td>\n",
       "      <td>0</td>\n",
       "    </tr>\n",
       "    <tr>\n",
       "      <th>+10000000.0</th>\n",
       "      <td>0</td>\n",
       "      <td>0</td>\n",
       "      <td>0</td>\n",
       "      <td>0</td>\n",
       "      <td>0</td>\n",
       "      <td>1532</td>\n",
       "      <td>0</td>\n",
       "      <td>0</td>\n",
       "      <td>0</td>\n",
       "      <td>0</td>\n",
       "      <td>0</td>\n",
       "      <td>0</td>\n",
       "      <td>0</td>\n",
       "      <td>0</td>\n",
       "      <td>0</td>\n",
       "    </tr>\n",
       "    <tr>\n",
       "      <th>+100000000.0</th>\n",
       "      <td>0</td>\n",
       "      <td>0</td>\n",
       "      <td>0</td>\n",
       "      <td>0</td>\n",
       "      <td>0</td>\n",
       "      <td>0</td>\n",
       "      <td>87</td>\n",
       "      <td>0</td>\n",
       "      <td>0</td>\n",
       "      <td>0</td>\n",
       "      <td>0</td>\n",
       "      <td>0</td>\n",
       "      <td>0</td>\n",
       "      <td>0</td>\n",
       "      <td>0</td>\n",
       "    </tr>\n",
       "    <tr>\n",
       "      <th>+1000000000.0</th>\n",
       "      <td>0</td>\n",
       "      <td>0</td>\n",
       "      <td>0</td>\n",
       "      <td>0</td>\n",
       "      <td>0</td>\n",
       "      <td>0</td>\n",
       "      <td>0</td>\n",
       "      <td>3</td>\n",
       "      <td>0</td>\n",
       "      <td>0</td>\n",
       "      <td>0</td>\n",
       "      <td>0</td>\n",
       "      <td>0</td>\n",
       "      <td>0</td>\n",
       "      <td>0</td>\n",
       "    </tr>\n",
       "    <tr>\n",
       "      <th>+500.0</th>\n",
       "      <td>3</td>\n",
       "      <td>2</td>\n",
       "      <td>0</td>\n",
       "      <td>0</td>\n",
       "      <td>0</td>\n",
       "      <td>0</td>\n",
       "      <td>0</td>\n",
       "      <td>0</td>\n",
       "      <td>4844</td>\n",
       "      <td>0</td>\n",
       "      <td>0</td>\n",
       "      <td>0</td>\n",
       "      <td>0</td>\n",
       "      <td>0</td>\n",
       "      <td>0</td>\n",
       "    </tr>\n",
       "    <tr>\n",
       "      <th>+5000.0</th>\n",
       "      <td>0</td>\n",
       "      <td>27</td>\n",
       "      <td>33</td>\n",
       "      <td>0</td>\n",
       "      <td>0</td>\n",
       "      <td>0</td>\n",
       "      <td>0</td>\n",
       "      <td>0</td>\n",
       "      <td>3</td>\n",
       "      <td>25834</td>\n",
       "      <td>0</td>\n",
       "      <td>0</td>\n",
       "      <td>0</td>\n",
       "      <td>0</td>\n",
       "      <td>0</td>\n",
       "    </tr>\n",
       "    <tr>\n",
       "      <th>+50000.0</th>\n",
       "      <td>0</td>\n",
       "      <td>0</td>\n",
       "      <td>9</td>\n",
       "      <td>9</td>\n",
       "      <td>0</td>\n",
       "      <td>0</td>\n",
       "      <td>0</td>\n",
       "      <td>0</td>\n",
       "      <td>0</td>\n",
       "      <td>0</td>\n",
       "      <td>17329</td>\n",
       "      <td>0</td>\n",
       "      <td>0</td>\n",
       "      <td>0</td>\n",
       "      <td>0</td>\n",
       "    </tr>\n",
       "    <tr>\n",
       "      <th>+500000.0</th>\n",
       "      <td>0</td>\n",
       "      <td>0</td>\n",
       "      <td>0</td>\n",
       "      <td>6</td>\n",
       "      <td>1</td>\n",
       "      <td>0</td>\n",
       "      <td>0</td>\n",
       "      <td>0</td>\n",
       "      <td>0</td>\n",
       "      <td>0</td>\n",
       "      <td>1</td>\n",
       "      <td>6560</td>\n",
       "      <td>0</td>\n",
       "      <td>0</td>\n",
       "      <td>0</td>\n",
       "    </tr>\n",
       "    <tr>\n",
       "      <th>+5000000.0</th>\n",
       "      <td>0</td>\n",
       "      <td>0</td>\n",
       "      <td>0</td>\n",
       "      <td>0</td>\n",
       "      <td>0</td>\n",
       "      <td>0</td>\n",
       "      <td>0</td>\n",
       "      <td>0</td>\n",
       "      <td>0</td>\n",
       "      <td>0</td>\n",
       "      <td>0</td>\n",
       "      <td>0</td>\n",
       "      <td>1646</td>\n",
       "      <td>0</td>\n",
       "      <td>0</td>\n",
       "    </tr>\n",
       "    <tr>\n",
       "      <th>+50000000.0</th>\n",
       "      <td>0</td>\n",
       "      <td>0</td>\n",
       "      <td>0</td>\n",
       "      <td>0</td>\n",
       "      <td>0</td>\n",
       "      <td>0</td>\n",
       "      <td>0</td>\n",
       "      <td>0</td>\n",
       "      <td>0</td>\n",
       "      <td>0</td>\n",
       "      <td>0</td>\n",
       "      <td>0</td>\n",
       "      <td>0</td>\n",
       "      <td>179</td>\n",
       "      <td>0</td>\n",
       "    </tr>\n",
       "    <tr>\n",
       "      <th>+500000000.0</th>\n",
       "      <td>0</td>\n",
       "      <td>0</td>\n",
       "      <td>0</td>\n",
       "      <td>0</td>\n",
       "      <td>0</td>\n",
       "      <td>0</td>\n",
       "      <td>0</td>\n",
       "      <td>0</td>\n",
       "      <td>0</td>\n",
       "      <td>0</td>\n",
       "      <td>0</td>\n",
       "      <td>0</td>\n",
       "      <td>0</td>\n",
       "      <td>0</td>\n",
       "      <td>5</td>\n",
       "    </tr>\n",
       "  </tbody>\n",
       "</table>\n",
       "</div>"
      ],
      "text/plain": [
       "predicted      +100.0  +1000.0  +10000.0  +100000.0  +1000000.0  +10000000.0  \\\n",
       "target                                                                         \n",
       "+100.0           3956        0         0          0           0            0   \n",
       "+1000.0             1    33350         2          0           0            0   \n",
       "+10000.0            0       16     57486          1           0            0   \n",
       "+100000.0           0        0         6      25801           0            0   \n",
       "+1000000.0          0        0         0          1        8295            0   \n",
       "+10000000.0         0        0         0          0           0         1532   \n",
       "+100000000.0        0        0         0          0           0            0   \n",
       "+1000000000.0       0        0         0          0           0            0   \n",
       "+500.0              3        2         0          0           0            0   \n",
       "+5000.0             0       27        33          0           0            0   \n",
       "+50000.0            0        0         9          9           0            0   \n",
       "+500000.0           0        0         0          6           1            0   \n",
       "+5000000.0          0        0         0          0           0            0   \n",
       "+50000000.0         0        0         0          0           0            0   \n",
       "+500000000.0        0        0         0          0           0            0   \n",
       "\n",
       "predicted      +100000000.0  +1000000000.0  +500.0  +5000.0  +50000.0  \\\n",
       "target                                                                  \n",
       "+100.0                    0              0       0        0         0   \n",
       "+1000.0                   0              0       0        3         0   \n",
       "+10000.0                  0              0       0        1         1   \n",
       "+100000.0                 0              0       0        0         1   \n",
       "+1000000.0                0              0       0        0         0   \n",
       "+10000000.0               0              0       0        0         0   \n",
       "+100000000.0             87              0       0        0         0   \n",
       "+1000000000.0             0              3       0        0         0   \n",
       "+500.0                    0              0    4844        0         0   \n",
       "+5000.0                   0              0       3    25834         0   \n",
       "+50000.0                  0              0       0        0     17329   \n",
       "+500000.0                 0              0       0        0         1   \n",
       "+5000000.0                0              0       0        0         0   \n",
       "+50000000.0               0              0       0        0         0   \n",
       "+500000000.0              0              0       0        0         0   \n",
       "\n",
       "predicted      +500000.0  +5000000.0  +50000000.0  +500000000.0  \n",
       "target                                                           \n",
       "+100.0                 0           0            0             0  \n",
       "+1000.0                0           0            0             0  \n",
       "+10000.0               0           0            0             0  \n",
       "+100000.0              0           0            0             0  \n",
       "+1000000.0             0           0            0             0  \n",
       "+10000000.0            0           0            0             0  \n",
       "+100000000.0           0           0            0             0  \n",
       "+1000000000.0          0           0            0             0  \n",
       "+500.0                 0           0            0             0  \n",
       "+5000.0                0           0            0             0  \n",
       "+50000.0               0           0            0             0  \n",
       "+500000.0           6560           0            0             0  \n",
       "+5000000.0             0        1646            0             0  \n",
       "+50000000.0            0           0          179             0  \n",
       "+500000000.0           0           0            0             5  "
      ]
     },
     "execution_count": 12,
     "metadata": {},
     "output_type": "execute_result"
    }
   ],
   "source": [
    "Ypredtrain = model_tree.predict(Xtrain)\n",
    "\n",
    "results.loc['DT-default',:] = compute_metrics(Ytrain, Ypredtrain)\n",
    "\n",
    "confusion(Ytrain, Ypredtrain)"
   ]
  },
  {
   "cell_type": "code",
   "execution_count": 13,
   "id": "d6b6c0cc",
   "metadata": {},
   "outputs": [
    {
     "name": "stdout",
     "output_type": "stream",
     "text": [
      "              precision    recall  f1-score   support\n",
      "\n",
      "   1000000.0       1.00      1.00      1.00      3956\n",
      "    100000.0       1.00      1.00      1.00     33356\n",
      "     10000.0       1.00      1.00      1.00     57505\n",
      "     50000.0       1.00      1.00      1.00     25808\n",
      "      5000.0       1.00      1.00      1.00      8296\n",
      "    500000.0       1.00      1.00      1.00      1532\n",
      "      1000.0       1.00      1.00      1.00        87\n",
      "       500.0       1.00      1.00      1.00         3\n",
      "       100.0       1.00      1.00      1.00      4849\n",
      "   5000000.0       1.00      1.00      1.00     25897\n",
      "  50000000.0       1.00      1.00      1.00     17347\n",
      "  10000000.0       1.00      1.00      1.00      6568\n",
      " 100000000.0       1.00      1.00      1.00      1646\n",
      "1000000000.0       1.00      1.00      1.00       179\n",
      " 500000000.0       1.00      1.00      1.00         5\n",
      "\n",
      "    accuracy                           1.00    187034\n",
      "   macro avg       1.00      1.00      1.00    187034\n",
      "weighted avg       1.00      1.00      1.00    187034\n",
      "\n"
     ]
    },
    {
     "data": {
      "text/html": [
       "<div>\n",
       "<style scoped>\n",
       "    .dataframe tbody tr th:only-of-type {\n",
       "        vertical-align: middle;\n",
       "    }\n",
       "\n",
       "    .dataframe tbody tr th {\n",
       "        vertical-align: top;\n",
       "    }\n",
       "\n",
       "    .dataframe thead th {\n",
       "        text-align: right;\n",
       "    }\n",
       "</style>\n",
       "<table border=\"1\" class=\"dataframe\">\n",
       "  <thead>\n",
       "    <tr style=\"text-align: right;\">\n",
       "      <th></th>\n",
       "      <th>Accuracy</th>\n",
       "      <th>F1-score (macro avg)</th>\n",
       "    </tr>\n",
       "  </thead>\n",
       "  <tbody>\n",
       "    <tr>\n",
       "      <th>DT-default</th>\n",
       "      <td>0.999</td>\n",
       "      <td>1.0</td>\n",
       "    </tr>\n",
       "  </tbody>\n",
       "</table>\n",
       "</div>"
      ],
      "text/plain": [
       "           Accuracy F1-score (macro avg)\n",
       "DT-default    0.999                  1.0"
      ]
     },
     "execution_count": 13,
     "metadata": {},
     "output_type": "execute_result"
    }
   ],
   "source": [
    "print(classification_report(Ytrain, Ypredtrain, target_names=['1000000.0', '100000.0', '10000.0', '50000.0', '5000.0', '500000.0', '1000.0', '500.0', '100.0', '5000000.0', '50000000.0', '10000000.0', '100000000.0', '1000000000.0', '500000000.0'],))\n",
    "\n",
    "results"
   ]
  },
  {
   "cell_type": "code",
   "execution_count": 14,
   "id": "1819d85a",
   "metadata": {
    "scrolled": true
   },
   "outputs": [],
   "source": [
    "Ypred = model_tree.predict(Xval)\n",
    "\n",
    "results.loc['DT-default',:] = compute_metrics(Yval, Ypred)\n"
   ]
  },
  {
   "cell_type": "code",
   "execution_count": 15,
   "id": "18e00048",
   "metadata": {},
   "outputs": [
    {
     "name": "stdout",
     "output_type": "stream",
     "text": [
      "              precision    recall  f1-score   support\n",
      "\n",
      "   1000000.0       0.28      0.27      0.27      1318\n",
      "    100000.0       0.36      0.36      0.36     11119\n",
      "     10000.0       0.41      0.41      0.41     19169\n",
      "     50000.0       0.35      0.35      0.35      8603\n",
      "      5000.0       0.19      0.19      0.19      2765\n",
      "    500000.0       0.11      0.11      0.11       511\n",
      "      1000.0       0.03      0.03      0.03        29\n",
      "       500.0       0.00      0.00      0.00         1\n",
      "       100.0       0.13      0.12      0.13      1616\n",
      "   5000000.0       0.26      0.26      0.26      8632\n",
      "  50000000.0       0.25      0.26      0.25      5783\n",
      "  10000000.0       0.12      0.12      0.12      2189\n",
      " 100000000.0       0.07      0.06      0.06       548\n",
      "1000000000.0       0.03      0.03      0.03        60\n",
      " 500000000.0       0.00      0.00      0.00         2\n",
      "\n",
      "    accuracy                           0.32     62345\n",
      "   macro avg       0.17      0.17      0.17     62345\n",
      "weighted avg       0.32      0.32      0.32     62345\n",
      "\n"
     ]
    },
    {
     "data": {
      "text/html": [
       "<div>\n",
       "<style scoped>\n",
       "    .dataframe tbody tr th:only-of-type {\n",
       "        vertical-align: middle;\n",
       "    }\n",
       "\n",
       "    .dataframe tbody tr th {\n",
       "        vertical-align: top;\n",
       "    }\n",
       "\n",
       "    .dataframe thead th {\n",
       "        text-align: right;\n",
       "    }\n",
       "</style>\n",
       "<table border=\"1\" class=\"dataframe\">\n",
       "  <thead>\n",
       "    <tr style=\"text-align: right;\">\n",
       "      <th></th>\n",
       "      <th>Accuracy</th>\n",
       "      <th>F1-score (macro avg)</th>\n",
       "    </tr>\n",
       "  </thead>\n",
       "  <tbody>\n",
       "    <tr>\n",
       "      <th>DT-default</th>\n",
       "      <td>0.322</td>\n",
       "      <td>0.173</td>\n",
       "    </tr>\n",
       "  </tbody>\n",
       "</table>\n",
       "</div>"
      ],
      "text/plain": [
       "           Accuracy F1-score (macro avg)\n",
       "DT-default    0.322                0.173"
      ]
     },
     "execution_count": 15,
     "metadata": {},
     "output_type": "execute_result"
    }
   ],
   "source": [
    "print(classification_report(Yval, Ypred, target_names=['1000000.0', '100000.0', '10000.0', '50000.0', '5000.0', '500000.0', '1000.0', '500.0', '100.0', '5000000.0', '50000000.0', '10000000.0', '100000000.0', '1000000000.0', '500000000.0'],))\n",
    "\n",
    "results"
   ]
  },
  {
   "cell_type": "markdown",
   "id": "386a8c89",
   "metadata": {},
   "source": [
    "It's clearly overfitting with the initial hyper parameters, let's change them"
   ]
  },
  {
   "cell_type": "code",
   "execution_count": 16,
   "id": "234b52b4",
   "metadata": {},
   "outputs": [
    {
     "data": {
      "text/plain": [
       "\"\\ncriterion = ['gini', 'entropy']\\n\\nmax_dephts = [None, 5, 10, 15, 20]\\nmin_samples_split = [1, 2, 3, 4, 5]\\nmin_samples_leaf = [1, 2, 3, 4, 5]\\nmax_features = ['auto', 'sqrt', 'log2', None]\\n\\nfrom sklearn.model_selection import GridSearchCV\\nfrom sklearn.metrics import make_scorer\\n\\ninit_time = time()\\nmodel_tree = DecisionTreeClassifier()\\n\\n\\nscoring_dict = {\\n    'f1_mac': 'f1_macro',\\n    'acc': 'accuracy'\\n}\\n\\ntrc = GridSearchCV(estimator=model_tree,\\n                   scoring=scoring_dict,\\n                   param_grid={\\n                       'criterion': criterion,\\n                       'max_depth': max_dephts,\\n                       'min_samples_split': min_samples_split,\\n                       'min_samples_leaf': min_samples_leaf,\\n                       'max_features': max_features\\n                   },\\n                   cv=5,\\n                   return_train_score=False,\\n                   refit='f1_mac')\\n\\nmodel_5CV = trc.fit(Xtrain, Ytrain)\\nprint(timedelta(seconds=(time() - init_time)))\\n\""
      ]
     },
     "execution_count": 16,
     "metadata": {},
     "output_type": "execute_result"
    }
   ],
   "source": [
    "# Too slow\n",
    "'''\n",
    "criterion = ['gini', 'entropy']\n",
    "\n",
    "max_dephts = [None, 5, 10, 15, 20]\n",
    "min_samples_split = [1, 2, 3, 4, 5]\n",
    "min_samples_leaf = [1, 2, 3, 4, 5]\n",
    "max_features = ['auto', 'sqrt', 'log2', None]\n",
    "\n",
    "from sklearn.model_selection import GridSearchCV\n",
    "from sklearn.metrics import make_scorer\n",
    "\n",
    "init_time = time()\n",
    "model_tree = DecisionTreeClassifier()\n",
    "\n",
    "\n",
    "scoring_dict = {\n",
    "    'f1_mac': 'f1_macro',\n",
    "    'acc': 'accuracy'\n",
    "}\n",
    "\n",
    "trc = GridSearchCV(estimator=model_tree,\n",
    "                   scoring=scoring_dict,\n",
    "                   param_grid={\n",
    "                       'criterion': criterion,\n",
    "                       'max_depth': max_dephts,\n",
    "                       'min_samples_split': min_samples_split,\n",
    "                       'min_samples_leaf': min_samples_leaf,\n",
    "                       'max_features': max_features\n",
    "                   },\n",
    "                   cv=5,\n",
    "                   return_train_score=False,\n",
    "                   refit='f1_mac')\n",
    "\n",
    "model_5CV = trc.fit(Xtrain, Ytrain)\n",
    "print(timedelta(seconds=(time() - init_time)))\n",
    "'''"
   ]
  },
  {
   "cell_type": "code",
   "execution_count": 17,
   "id": "21f9204c",
   "metadata": {},
   "outputs": [
    {
     "data": {
      "text/plain": [
       "\"\\nscoring_cols = [\\n    'param_criterion', 'param_max_depth', 'param_max_features',\\n    'param_min_samples_leaf', 'param_min_samples_split', 'mean_test_f1_mac',\\n    'mean_test_f1_class_0', 'mean_test_f1_class_1', 'mean_test_acc'\\n]\\n\\npd.DataFrame(model_5CV.cv_results_).sort_values(by='mean_test_f1_mac', ascending=False)[scoring_cols].head()\\n\""
      ]
     },
     "execution_count": 17,
     "metadata": {},
     "output_type": "execute_result"
    }
   ],
   "source": [
    "'''\n",
    "scoring_cols = [\n",
    "    'param_criterion', 'param_max_depth', 'param_max_features',\n",
    "    'param_min_samples_leaf', 'param_min_samples_split', 'mean_test_f1_mac',\n",
    "    'mean_test_f1_class_0', 'mean_test_f1_class_1', 'mean_test_acc'\n",
    "]\n",
    "\n",
    "pd.DataFrame(model_5CV.cv_results_).sort_values(by='mean_test_f1_mac', ascending=False)[scoring_cols].head()\n",
    "'''"
   ]
  },
  {
   "cell_type": "markdown",
   "id": "99251b59",
   "metadata": {},
   "source": [
    "Since we still have an overfitting problem, let's take a look at random forest. Random Forest is an ensemble of Decision Trees; the idea is that by averaging high-variance but decorrelated individual decision trees we will avoid their tendency to overfitting."
   ]
  },
  {
   "cell_type": "code",
   "execution_count": 13,
   "id": "62b444e1",
   "metadata": {},
   "outputs": [
    {
     "name": "stdout",
     "output_type": "stream",
     "text": [
      "              precision    recall  f1-score   support\n",
      "\n",
      "   1000000.0       1.00      1.00      1.00      3956\n",
      "    100000.0       1.00      1.00      1.00     33356\n",
      "     10000.0       1.00      1.00      1.00     57505\n",
      "     50000.0       1.00      1.00      1.00     25808\n",
      "      5000.0       1.00      1.00      1.00      8296\n",
      "    500000.0       1.00      1.00      1.00      1532\n",
      "      1000.0       1.00      1.00      1.00        87\n",
      "       500.0       1.00      1.00      1.00         3\n",
      "       100.0       1.00      1.00      1.00      4849\n",
      "   5000000.0       1.00      1.00      1.00     25897\n",
      "  50000000.0       1.00      1.00      1.00     17347\n",
      "  10000000.0       1.00      1.00      1.00      6568\n",
      " 100000000.0       1.00      1.00      1.00      1646\n",
      "1000000000.0       1.00      1.00      1.00       179\n",
      " 500000000.0       1.00      1.00      1.00         5\n",
      "\n",
      "    accuracy                           1.00    187034\n",
      "   macro avg       1.00      1.00      1.00    187034\n",
      "weighted avg       1.00      1.00      1.00    187034\n",
      "\n",
      "OOB accuracy= 0.3224975138210165\n"
     ]
    }
   ],
   "source": [
    "model_rf1 = RandomForestClassifier(oob_score=True).fit(Xtrain, Ytrain)\n",
    "\n",
    "pred = model_rf1.predict(Xtrain)\n",
    "\n",
    "print(classification_report(Ytrain, pred, target_names=['1000000.0', '100000.0', '10000.0', '50000.0', '5000.0', '500000.0', '1000.0', '500.0', '100.0', '5000000.0', '50000000.0', '10000000.0', '100000000.0', '1000000000.0', '500000000.0'],))\n",
    "print('OOB accuracy=', model_rf1.oob_score_)\n"
   ]
  },
  {
   "cell_type": "code",
   "execution_count": null,
   "id": "28b0682c",
   "metadata": {},
   "outputs": [],
   "source": [
    "Ypred = model_rf1.predict(Xval)\n",
    "print('Validation Accuracy:{}'.format(model_rf1.score(Xval,Yval)))\n",
    "results.loc['RF-default',:] = compute_metrics(Yval,Ypred)\n",
    "results"
   ]
  },
  {
   "cell_type": "markdown",
   "id": "dbb9c82d",
   "metadata": {},
   "source": [
    "We are still overfitting our model by a lot"
   ]
  },
  {
   "cell_type": "code",
   "execution_count": null,
   "id": "2645ff00",
   "metadata": {},
   "outputs": [],
   "source": [
    "model_rf2 = RandomForestClassifier(n_estimators=100, \n",
    "                                   oob_score=True, \n",
    "                                   class_weight='balanced').fit(Xtrain, Ytrain)\n",
    "\n",
    "pred = model_rf2.predict(Xtrain)\n",
    "\n",
    "confusion(Ytrain, pred)\n",
    "print(classification_report(Ytrain, pred, target_names=['1000000.0', '100000.0', '10000.0', '50000.0', '5000.0', '500000.0', '1000.0', '500.0', '100.0', '5000000.0', '50000000.0', '10000000.0', '100000000.0', '1000000000.0', '500000000.0'],))\n",
    "print('OOB accuracy=', model_rf2.oob_score_)"
   ]
  },
  {
   "cell_type": "code",
   "execution_count": null,
   "id": "20a3233a",
   "metadata": {},
   "outputs": [],
   "source": [
    "Ypred = model_rf2.predict(Xval)\n",
    "\n",
    "results.loc['RF-balance',:] = compute_metrics(Yval,Ypred)\n",
    "results.sort_values(by='F1-score (macro avg)', ascending=False)"
   ]
  },
  {
   "cell_type": "markdown",
   "id": "8000ef1b",
   "metadata": {},
   "source": [
    "After a class balance, the original random forest performs better, this makes sense since classes are already balanced enough."
   ]
  },
  {
   "cell_type": "code",
   "execution_count": null,
   "id": "47e8fd60",
   "metadata": {},
   "outputs": [],
   "source": [
    "Ytest.value_counts()"
   ]
  },
  {
   "cell_type": "markdown",
   "id": "f5370110",
   "metadata": {},
   "source": [
    "Definetly, we should try to change hyper parameters, trhoughout all this models, we have faced the same problem overfitting, this can be solve with a hyperparameter search.\n",
    "\n",
    "Notice that the model computations takes too long (about a minute for each model) thus, we will constraint our seach to few possibilities.\n",
    "\n",
    "Also, we will cut our dataset to 3000 samples."
   ]
  },
  {
   "cell_type": "code",
   "execution_count": null,
   "id": "b29f5fe8",
   "metadata": {},
   "outputs": [],
   "source": [
    "XtrainCut = Xtrain[:3000]\n",
    "YtrainCut = Ytrain[:3000]"
   ]
  },
  {
   "cell_type": "code",
   "execution_count": null,
   "id": "3be3c0ae",
   "metadata": {},
   "outputs": [],
   "source": [
    "'''init_time = time()\n",
    "\n",
    "rf_model = RandomForestClassifier()\n",
    "\n",
    "ntrees = [200, None]\n",
    "max_depth = [100,None]\n",
    "min_samples_split = [4,6]\n",
    "min_samples_leaf = [4,6]\n",
    "balance = [None, 'balanced', 'balanced_subsample']\n",
    "\n",
    "scoring_dict = {\n",
    "    'f1_mac': 'f1_macro',\n",
    "    'acc': 'accuracy'\n",
    "}\n",
    "\n",
    "\n",
    "trc = GridSearchCV(estimator=rf_model,\n",
    "                   scoring=scoring_dict,\n",
    "                   param_grid={\n",
    "                       'n_estimators': ntrees,\n",
    "                       'max_depth':max_depth,\n",
    "                       'min_samples_split':min_samples_split,\n",
    "                       'min_samples_leaf':min_samples_leaf, \n",
    "                       'class_weight':balance\n",
    "                   },\n",
    "                   cv=5,\n",
    "                   return_train_score=False,\n",
    "                   refit=False,\n",
    "                   n_jobs=-1)\n",
    "\n",
    "model_5CV = trc.fit(XtrainCut, YtrainCut)\n",
    "print(timedelta(seconds=(time() - init_time)))\n",
    "'''"
   ]
  },
  {
   "cell_type": "markdown",
   "id": "f6478eff",
   "metadata": {},
   "source": [
    "We will also try to do a random forest but for a binary variable which explains if the app was a success"
   ]
  },
  {
   "cell_type": "code",
   "execution_count": 15,
   "id": "6d7daa5a",
   "metadata": {},
   "outputs": [
    {
     "data": {
      "text/plain": [
       "Index(['Category', 'Free', 'Released', 'Content Rating', 'Ad Supported',\n",
       "       'In App Purchases', 'Editors Choice', 'Exit', 'ModRating', 'ModPrice',\n",
       "       'ModSize', 'ModLast Updated'],\n",
       "      dtype='object')"
      ]
     },
     "execution_count": 15,
     "metadata": {},
     "output_type": "execute_result"
    }
   ],
   "source": [
    "datasetTrain = pd.read_csv('../Dades/X_train_modified.csv')\n",
    "datasetTest  = pd.read_csv('../Dades/X_test_modified.csv')\n",
    "\n",
    "datasetTrain['Installs'] = datasetTrain['Installs'].astype('object')\n",
    "datasetTest['Installs'] = datasetTest['Installs'].astype('object')\n",
    "\n",
    "columsToDrop = ['Maximum Installs', 'Price', 'Size', 'Download', 'Last Updated', 'ModInstalls', 'ModMaximumInstalls', 'Rating', 'ModExit']\n",
    "categoricalColumns = ['Installs', 'Category', 'Free', 'Content Rating', 'Ad Supported', 'In App Purchases', 'Editors Choice']\n",
    "\n",
    "'''\n",
    "# Convert to categorical variables\n",
    "for column in categoricalColumns:\n",
    "    datasetTrain[column] = datasetTrain[column].astype('category')\n",
    "    datasetTest[column] = datasetTest[column].astype('category')\n",
    "'''\n",
    "# Drop repeated or unwanted data (Installs is the catageorial version of \"Maximum installs\")\n",
    "datasetTrain = datasetTrain.drop(columns=columsToDrop)\n",
    "datasetTest  = datasetTest.drop(columns=columsToDrop)\n",
    "\n",
    "datasetTrain = datasetTrain.drop(columns=['Installs'])\n",
    "datasetTest = datasetTest.drop(columns=['Installs'])\n",
    "\n",
    "datasetTrain.columns"
   ]
  },
  {
   "cell_type": "code",
   "execution_count": 19,
   "id": "d7f53e96",
   "metadata": {
    "scrolled": true
   },
   "outputs": [
    {
     "data": {
      "text/plain": [
       "array([False,  True])"
      ]
     },
     "execution_count": 19,
     "metadata": {},
     "output_type": "execute_result"
    }
   ],
   "source": [
    "datasetTrain['Exit'].unique()"
   ]
  },
  {
   "cell_type": "code",
   "execution_count": 20,
   "id": "2bd7de34",
   "metadata": {},
   "outputs": [],
   "source": [
    "Xtrain = datasetTrain.loc[:, datasetTrain.columns != 'Exit']\n",
    "Ytrain = datasetTrain['Exit']\n",
    "\n",
    "Xtest = datasetTest.loc[:, datasetTest.columns != 'Exit']\n",
    "Ytest = datasetTest['Exit']"
   ]
  },
  {
   "cell_type": "code",
   "execution_count": 21,
   "id": "41e60370",
   "metadata": {},
   "outputs": [
    {
     "name": "stdout",
     "output_type": "stream",
     "text": [
      "0    False\n",
      "1    False\n",
      "2     True\n",
      "3    False\n",
      "4    False\n",
      "Name: Exit, dtype: bool\n"
     ]
    }
   ],
   "source": [
    "for column in Xtrain.columns:\n",
    "        if Xtrain[column].dtype.kind == 'O':\n",
    "            Xtrain_one_hot = pd.get_dummies(Xtrain[column], prefix=column)\n",
    "            Xtrain = Xtrain.merge(Xtrain_one_hot,left_index=True,right_index=True)\n",
    "            Xtrain = Xtrain.drop(columns=[column])\n",
    "            \n",
    "for column in Xtest.columns:\n",
    "        if Xtest[column].dtype.kind == 'O':\n",
    "            Xtest_one_hot = pd.get_dummies(Xtest[column], prefix=column)\n",
    "            Xtest = Xtest.merge(Xtest_one_hot,left_index=True,right_index=True)\n",
    "            Xtest = Xtest.drop(columns=[column])\n",
    "            \n",
    "print(Ytrain.head())"
   ]
  },
  {
   "cell_type": "code",
   "execution_count": 22,
   "id": "79cecf9a",
   "metadata": {},
   "outputs": [],
   "source": [
    "Xtrain, Xval, Ytrain, Yval = train_test_split(Xtrain, Ytrain, test_size=0.25, stratify=Ytrain, random_state=1)"
   ]
  },
  {
   "cell_type": "code",
   "execution_count": 25,
   "id": "e132d918",
   "metadata": {
    "scrolled": true
   },
   "outputs": [
    {
     "name": "stdout",
     "output_type": "stream",
     "text": [
      "              precision    recall  f1-score   support\n",
      "\n",
      "        True       1.00      1.00      1.00    173342\n",
      "       False       1.00      1.00      1.00     13692\n",
      "\n",
      "    accuracy                           1.00    187034\n",
      "   macro avg       1.00      1.00      1.00    187034\n",
      "weighted avg       1.00      1.00      1.00    187034\n",
      "\n",
      "OOB accuracy= 0.9318359228803319\n"
     ]
    }
   ],
   "source": [
    "model_rf1 = RandomForestClassifier(oob_score=True).fit(Xtrain, Ytrain)\n",
    "\n",
    "pred = model_rf1.predict(Xtrain)\n",
    "\n",
    "print(classification_report(Ytrain, pred, target_names=['True', 'False'],))\n",
    "print('OOB accuracy=', model_rf1.oob_score_)"
   ]
  },
  {
   "cell_type": "code",
   "execution_count": 26,
   "id": "9de867a0",
   "metadata": {},
   "outputs": [
    {
     "name": "stdout",
     "output_type": "stream",
     "text": [
      "Validation Accuracy:0.9331943219183575\n"
     ]
    },
    {
     "data": {
      "text/html": [
       "<div>\n",
       "<style scoped>\n",
       "    .dataframe tbody tr th:only-of-type {\n",
       "        vertical-align: middle;\n",
       "    }\n",
       "\n",
       "    .dataframe tbody tr th {\n",
       "        vertical-align: top;\n",
       "    }\n",
       "\n",
       "    .dataframe thead th {\n",
       "        text-align: right;\n",
       "    }\n",
       "</style>\n",
       "<table border=\"1\" class=\"dataframe\">\n",
       "  <thead>\n",
       "    <tr style=\"text-align: right;\">\n",
       "      <th></th>\n",
       "      <th>Accuracy</th>\n",
       "      <th>F1-score (macro avg)</th>\n",
       "    </tr>\n",
       "  </thead>\n",
       "  <tbody>\n",
       "    <tr>\n",
       "      <th>RF-default</th>\n",
       "      <td>0.933</td>\n",
       "      <td>0.632</td>\n",
       "    </tr>\n",
       "  </tbody>\n",
       "</table>\n",
       "</div>"
      ],
      "text/plain": [
       "           Accuracy F1-score (macro avg)\n",
       "RF-default    0.933                0.632"
      ]
     },
     "execution_count": 26,
     "metadata": {},
     "output_type": "execute_result"
    }
   ],
   "source": [
    "Ypred = model_rf1.predict(Xval)\n",
    "print('Validation Accuracy:{}'.format(model_rf1.score(Xval,Yval)))\n",
    "results.loc['RF-default',:] = compute_metrics(Yval,Ypred)\n",
    "results"
   ]
  }
 ],
 "metadata": {
  "kernelspec": {
   "display_name": "Python 3 (ipykernel)",
   "language": "python",
   "name": "python3"
  },
  "language_info": {
   "codemirror_mode": {
    "name": "ipython",
    "version": 3
   },
   "file_extension": ".py",
   "mimetype": "text/x-python",
   "name": "python",
   "nbconvert_exporter": "python",
   "pygments_lexer": "ipython3",
   "version": "3.9.12"
  }
 },
 "nbformat": 4,
 "nbformat_minor": 5
}
